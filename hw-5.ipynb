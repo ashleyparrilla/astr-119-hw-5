{
 "cells": [
  {
   "cell_type": "code",
   "execution_count": 7,
   "metadata": {},
   "outputs": [],
   "source": [
    "%matplotlib inline\n",
    "import matplotlib.pyplot as plt\n",
    "import numpy as np"
   ]
  },
  {
   "cell_type": "code",
   "execution_count": 8,
   "metadata": {},
   "outputs": [],
   "source": [
    "def dydx(x,y):\n",
    "    #declare an array\n",
    "    y_derivs = np.zeros(2) #size=2\n",
    "    #set dydx=z\n",
    "    y_derivs[0] = y[1]\n",
    "    #set dydx=-y\n",
    "    y_derivs[1] = -1*y[0]\n",
    "    \n",
    "    #return array\n",
    "    return y_derivs"
   ]
  },
  {
   "cell_type": "code",
   "execution_count": 9,
   "metadata": {},
   "outputs": [],
   "source": [
    "def rk4_mv_core(dydx,xi,yi,nv,h):\n",
    "    \n",
    "    #declare k? arrays\n",
    "    k1 = np.zeros(nv)\n",
    "    k2 = np.zeros(nv)\n",
    "    k3 = np.zeros(nv)\n",
    "    k4 = np.zeros(nv)\n",
    "    \n",
    "    #define x at 1/2 step\n",
    "    x_ipoh = xi + 0.5*h\n",
    "    \n",
    "    #define x at 1 step\n",
    "    x_ipo = xi + h\n",
    "    \n",
    "    #declare a temp y array\n",
    "    y_temp = np.zeros(nv)\n",
    "    \n",
    "    #get k1 values\n",
    "    y_derivs = dydx(xi,yi)\n",
    "    k1[:] = h*y_derivs[:]\n",
    "    \n",
    "    #get k2 values\n",
    "    y_temp[:] = yi[:] + 0.5*k1[:]\n",
    "    y_derivs = dydx(x_ipoh,y_temp)\n",
    "    k2[:] = h*y_derivs[:]\n",
    "    \n",
    "    #get k3 values\n",
    "    y_temp[:] = yi[:] + 0.5*k2[:]\n",
    "    y_derivs = dydx(x_ipoh,y_temp)\n",
    "    k3[:] = h*y_derivs[:]\n",
    "    \n",
    "    #get k4 values\n",
    "    y_temp[:] = yi[:] + k3[:]\n",
    "    y_derivs = dydx(x_ipoh,y_temp)\n",
    "    k4[:] = h*y_derivs[:]\n",
    "    \n",
    "    #advance y by a step h\n",
    "    yipo = yi + (k1 +2*k2 + 2*k3 +k4)/6.  #weighted sum\n",
    "    \n",
    "    #this is an array\n",
    "    return yipo\n",
    "    "
   ]
  },
  {
   "cell_type": "code",
   "execution_count": 10,
   "metadata": {},
   "outputs": [],
   "source": [
    "def rk4_mv_ad(dydx,x_i,y_i,nv,h,tol):\n",
    "    \n",
    "    #to get something to work quickly, need to take larger steps, only with smoother curves\n",
    "    #define safety scale, correcting number of steps\n",
    "    SAFETY = 0.9    #reducing size of step\n",
    "    H_NEW_FAC = 2.0   #max factor in which our step will be \n",
    "    \n",
    "    #set a max number of iterations\n",
    "    imax = 10000\n",
    "    \n",
    "    #set an iteration variable\n",
    "    i = 0\n",
    "    \n",
    "    #create an error\n",
    "    Delta = np.full(nv,2*tol)  #cant take steps 2* the tolerance \n",
    "    \n",
    "    #remember the step\n",
    "    h_step = h\n",
    "    \n",
    "    #adjust step\n",
    "    while(Delta.max()/tol > 1.0):\n",
    "        \n",
    "        #estimate our error by taking one step of size h\n",
    "        #vs. two steps of size h/2\n",
    "        y_2 = rk4_mv_core(dydx,x_i,y_i,nv,h_step)\n",
    "        y_1 = rk4_mv_core(dydx,x_i,y_i,nv,0.5*h_step)\n",
    "        y_11 = rk4_mv_core(dydx,x_i+0.5*h_step,y_1,nv,0.5*h_step)\n",
    "        \n",
    "        #compute an error\n",
    "        Delta = np.fabs(y_2 - y_11)\n",
    "        \n",
    "        #if the error is too large, take a smaller step\n",
    "        if(Delta.max()/tol > 1.0):\n",
    "            \n",
    "            #our error is too large, decrease the step\n",
    "            h_step *= SAFETY * (Delta.max()/tol)**(-0.2)\n",
    "            \n",
    "        #check iteration\n",
    "        if(i>=imax):\n",
    "            print(\"too many iterations in rk4_mv_ad()\")\n",
    "            raise StopIteration(\"ending after i= \",i)\n",
    "            \n",
    "        #iterate\n",
    "        i+=1\n",
    "        \n",
    "    #next time, try to take a bigger step\n",
    "    h_new = np.fmin(h_step * (Delta.max()/tol)**(-0.9), h_step*H_NEW_FAC)\n",
    "    \n",
    "    #return the answer, a new step, and the step we actually took\n",
    "    return y_2, h_new, h_step\n"
   ]
  },
  {
   "cell_type": "code",
   "execution_count": 11,
   "metadata": {},
   "outputs": [],
   "source": [
    "def rk4_mv(dfdx,a,b,y_a,tol):\n",
    "    \n",
    "    #dfdx is the derivative wrt x\n",
    "    #a is the lower bound\n",
    "    #b is the upper\n",
    "    #y_a are the boundary conditions (0,1)\n",
    "    #tol is the tolerance for integrating y\n",
    "    \n",
    "    #define our starting step\n",
    "    xi = a\n",
    "    yi = y_a.copy()\n",
    "    \n",
    "    #an initial step size == make very small!\n",
    "    h = 1.0e-4 * (b-a)\n",
    "    \n",
    "    #set a max number of iterations\n",
    "    imax = 10000\n",
    "    \n",
    "    #set an iteration variable\n",
    "    i = 0\n",
    "    \n",
    "    #set the number of coupled odes to the size of y_a\n",
    "    nv = len(y_a)\n",
    "    \n",
    "    #set the initial conditions\n",
    "    x = np.full(1,a)\n",
    "    y = np.full((1,nv),y_a) #allocating multi-dimensional array\n",
    "    \n",
    "    #set a flag\n",
    "    flag = 1\n",
    "    \n",
    "    #loop until we reach the right side\n",
    "    while(flag):\n",
    "        \n",
    "        #calculate y_i+1\n",
    "        yi_new, h_new, h_step = rk4_mv_ad(dydx,xi,yi,nv,h,tol)\n",
    "        \n",
    "        #update the step\n",
    "        h = h_new\n",
    "        \n",
    "        #prevent an overshoot\n",
    "        if(xi+h_step>b):\n",
    "            \n",
    "            #take a smaller step\n",
    "            h = b-xi\n",
    "            \n",
    "            #recalculate y_i+1\n",
    "            yi_new, h_new, h_step = rk4_mv_ad(dydx,xi,yi,nv,h,tol)\n",
    "            \n",
    "            #break\n",
    "            flag = 0\n",
    "            \n",
    "        #update values\n",
    "        xi += h_step\n",
    "        yi[:] = yi_new[:]\n",
    "        \n",
    "        #add the step to the arrays\n",
    "        x = np.append(x,xi)\n",
    "        y_new = np.zeros((len(x),nv))\n",
    "        y_new[0:len(x)-1,:] = y\n",
    "        y_new[-1,:] = yi[:]\n",
    "        del y #destroys memory associated with y\n",
    "        y = y_new\n",
    "        \n",
    "        #prevent too many iterations\n",
    "        if(i>=imax):\n",
    "            \n",
    "            print(\"max iterations reached.\")\n",
    "            raise StopIteration(\"iteration number= \",i)\n",
    "            \n",
    "        #iterate\n",
    "        i += 1\n",
    "        \n",
    "        #output some info\n",
    "        s = \"i = %3d\\tx = %9.8f\\th = %9.8f\\tb=%9.8f\" % (i,xi, h_step, b)\n",
    "        print(s)\n",
    "        \n",
    "        #break if new xi is == b\n",
    "        if(xi==b):\n",
    "            flag = 0\n",
    "            \n",
    "    #return answer\n",
    "    return x,y"
   ]
  },
  {
   "cell_type": "code",
   "execution_count": 12,
   "metadata": {},
   "outputs": [
    {
     "name": "stdout",
     "output_type": "stream",
     "text": [
      "i =   1\tx = 0.00062832\th = 0.00062832\tb=6.28318531\n",
      "i =   2\tx = 0.00188496\th = 0.00125664\tb=6.28318531\n",
      "i =   3\tx = 0.00439823\th = 0.00251327\tb=6.28318531\n",
      "i =   4\tx = 0.00942478\th = 0.00502655\tb=6.28318531\n",
      "i =   5\tx = 0.01947787\th = 0.01005310\tb=6.28318531\n",
      "i =   6\tx = 0.03958407\th = 0.02010619\tb=6.28318531\n",
      "i =   7\tx = 0.07979645\th = 0.04021239\tb=6.28318531\n",
      "i =   8\tx = 0.16022123\th = 0.08042477\tb=6.28318531\n",
      "i =   9\tx = 0.32107077\th = 0.16084954\tb=6.28318531\n",
      "i =  10\tx = 0.47279456\th = 0.15172379\tb=6.28318531\n",
      "i =  11\tx = 0.62673897\th = 0.15394441\tb=6.28318531\n",
      "i =  12\tx = 0.78386255\th = 0.15712358\tb=6.28318531\n",
      "i =  13\tx = 0.94345737\th = 0.15959482\tb=6.28318531\n",
      "i =  14\tx = 1.09900875\th = 0.15555138\tb=6.28318531\n",
      "i =  15\tx = 1.25186067\th = 0.15285192\tb=6.28318531\n",
      "i =  16\tx = 1.40296404\th = 0.15110337\tb=6.28318531\n",
      "i =  17\tx = 1.55310135\th = 0.15013732\tb=6.28318531\n",
      "i =  18\tx = 1.70297215\th = 0.14987080\tb=6.28318531\n",
      "i =  19\tx = 1.85325260\th = 0.15028045\tb=6.28318531\n",
      "i =  20\tx = 2.00464866\th = 0.15139605\tb=6.28318531\n",
      "i =  21\tx = 2.15795690\th = 0.15330825\tb=6.28318531\n",
      "i =  22\tx = 2.31415201\th = 0.15619511\tb=6.28318531\n",
      "i =  23\tx = 2.47453791\th = 0.16038590\tb=6.28318531\n",
      "i =  24\tx = 2.63097108\th = 0.15643317\tb=6.28318531\n",
      "i =  25\tx = 2.78440370\th = 0.15343262\tb=6.28318531\n",
      "i =  26\tx = 2.93586855\th = 0.15146485\tb=6.28318531\n",
      "i =  27\tx = 3.08618097\th = 0.15031243\tb=6.28318531\n",
      "i =  28\tx = 3.23605519\th = 0.14987422\tb=6.28318531\n",
      "i =  29\tx = 3.38616823\th = 0.15011304\tb=6.28318531\n",
      "i =  30\tx = 3.53721339\th = 0.15104516\tb=6.28318531\n",
      "i =  31\tx = 3.68995768\th = 0.15274429\tb=6.28318531\n",
      "i =  32\tx = 3.84532020\th = 0.15536252\tb=6.28318531\n",
      "i =  33\tx = 4.00450172\th = 0.15918152\tb=6.28318531\n",
      "i =  34\tx = 4.16191956\th = 0.15741783\tb=6.28318531\n",
      "i =  35\tx = 4.31601040\th = 0.15409084\tb=6.28318531\n",
      "i =  36\tx = 4.46789717\th = 0.15188677\tb=6.28318531\n",
      "i =  37\tx = 4.61843476\th = 0.15053759\tb=6.28318531\n",
      "i =  38\tx = 4.76835643\th = 0.14992167\tb=6.28318531\n",
      "i =  39\tx = 4.91834353\th = 0.14998710\tb=6.28318531\n",
      "i =  40\tx = 5.06908009\th = 0.15073656\tb=6.28318531\n",
      "i =  41\tx = 5.22130791\th = 0.15222782\tb=6.28318531\n",
      "i =  42\tx = 5.37589746\th = 0.15458955\tb=6.28318531\n",
      "i =  43\tx = 5.53395988\th = 0.15806242\tb=6.28318531\n",
      "i =  44\tx = 5.69246949\th = 0.15850961\tb=6.28318531\n",
      "i =  45\tx = 5.84729274\th = 0.15482324\tb=6.28318531\n",
      "i =  46\tx = 5.99965962\th = 0.15236688\tb=6.28318531\n",
      "i =  47\tx = 6.15047179\th = 0.15081217\tb=6.28318531\n",
      "i =  48\tx = 6.28318531\th = 0.13271352\tb=6.28318531\n"
     ]
    }
   ],
   "source": [
    "a = 0.0\n",
    "b = 2.0 * np.pi\n",
    "y_0 = np.zeros(2)\n",
    "y_0[0] = 0.0\n",
    "y_0[1] = 1.0\n",
    "nv = 2\n",
    "tolerance = 1.0e-6\n",
    "#perform the integration\n",
    "x,y = rk4_mv(dydx,a,b,y_0,tolerance)\n"
   ]
  },
  {
   "cell_type": "code",
   "execution_count": 13,
   "metadata": {},
   "outputs": [
    {
     "data": {
      "text/plain": [
       "<matplotlib.legend.Legend at 0x1172e3780>"
      ]
     },
     "execution_count": 13,
     "metadata": {},
     "output_type": "execute_result"
    },
    {
     "data": {
      "image/png": "[encoded data removed]",
      "text/plain": [
       "<Figure size 432x288 with 1 Axes>"
      ]
     },
     "metadata": {
      "needs_background": "light"
     },
     "output_type": "display_data"
    }
   ],
   "source": [
    "plt.plot(x,y[:,0],'o',label='y(x)')\n",
    "plt.plot(x,y[:,1],'o',label='dydx(x)')\n",
    "xx = np.linspace(0,2.0*np.pi,1000)\n",
    "plt.plot(xx,np.sin(xx),label='sin(x)')\n",
    "plt.plot(xx,np.cos(xx),label='cos(x)')\n",
    "plt.xlabel('x')\n",
    "plt.ylabel('y')\n",
    "plt.legend(frameon=False)"
   ]
  },
  {
   "cell_type": "code",
   "execution_count": 14,
   "metadata": {},
   "outputs": [
    {
     "data": {
      "text/plain": [
       "<matplotlib.legend.Legend at 0x1173fcf28>"
      ]
     },
     "execution_count": 14,
     "metadata": {},
     "output_type": "execute_result"
    },
    {
     "data": {
      "image/png": "[encoded data removed]",
      "text/plain": [
       "<Figure size 432x288 with 1 Axes>"
      ]
     },
     "metadata": {
      "needs_background": "light"
     },
     "output_type": "display_data"
    }
   ],
   "source": [
    "sine = np.sin(x)\n",
    "cosine = np.cos(x)\n",
    "\n",
    "y_error = (y[:,0]-sine)\n",
    "dydx_error = (y[:,1]-cosine)\n",
    "\n",
    "plt.plot(x, y_error, label=\"y(x) Error\")\n",
    "plt.plot(x, dydx_error, label=\"dydx(x) Error\")\n",
    "plt.legend(frameon=False)"
   ]
  },
  {
   "cell_type": "code",
   "execution_count": null,
   "metadata": {},
   "outputs": [],
   "source": []
  }
 ],
 "metadata": {
  "kernelspec": {
   "display_name": "Python 3",
   "language": "python",
   "name": "python3"
  },
  "language_info": {
   "codemirror_mode": {
    "name": "ipython",
    "version": 3
   },
   "file_extension": ".py",
   "mimetype": "text/x-python",
   "name": "python",
   "nbconvert_exporter": "python",
   "pygments_lexer": "ipython3",
   "version": "3.7.0"
  }
 },
 "nbformat": 4,
 "nbformat_minor": 2
}
